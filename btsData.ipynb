{
  "nbformat": 4,
  "nbformat_minor": 0,
  "metadata": {
    "colab": {
      "provenance": []
    },
    "kernelspec": {
      "name": "python3",
      "display_name": "Python 3"
    },
    "language_info": {
      "name": "python"
    }
  },
  "cells": [
    {
      "cell_type": "code",
      "source": [
        "import pandas as pd\n",
        "import numpy as np"
      ],
      "metadata": {
        "id": "F_pecllGv1a8"
      },
      "execution_count": 1,
      "outputs": []
    },
    {
      "cell_type": "code",
      "source": [
        "data = pd.read_csv('BTSData.csv', header=0, index_col=0)"
      ],
      "metadata": {
        "id": "A9HP7P7zv2fy"
      },
      "execution_count": 2,
      "outputs": []
    },
    {
      "cell_type": "code",
      "source": [
        "#dropping the data notes\n",
        "data = data.drop(data.index[60:70])\n",
        "# #dropping the brakewear data because it is present in both evs and electric cars\n",
        "data.drop('Tirewear PM2.5', inplace=True)"
      ],
      "metadata": {
        "id": "bGQg7qcEw5zp"
      },
      "execution_count": 3,
      "outputs": []
    },
    {
      "cell_type": "code",
      "source": [
        "data.to_csv('CleanedBTSData.csv', index=False)\n"
      ],
      "metadata": {
        "id": "CvymabU7xApx"
      },
      "execution_count": 4,
      "outputs": []
    },
    {
      "cell_type": "code",
      "source": [],
      "metadata": {
        "id": "ZXlyAf-jwDNz"
      },
      "execution_count": null,
      "outputs": []
    }
  ]
}